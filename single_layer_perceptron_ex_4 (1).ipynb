{
  "nbformat": 4,
  "nbformat_minor": 0,
  "metadata": {
    "colab": {
      "provenance": []
    },
    "kernelspec": {
      "name": "python3",
      "display_name": "Python 3"
    },
    "language_info": {
      "name": "python"
    }
  },
  "cells": [
    {
      "cell_type": "code",
      "execution_count": null,
      "metadata": {
        "id": "sMrG9AzTWDpJ"
      },
      "outputs": [],
      "source": [
        "# Step 1: Import libraries\n",
        "import numpy as np\n",
        "\n"
      ]
    },
    {
      "cell_type": "code",
      "source": [
        "# Step 2: Initialize\n",
        "# Training inputs\n",
        "X = np.array([[0,0],\n",
        "              [0,1],\n",
        "              [1,0],\n",
        "              [1,1]])\n",
        "# Desired outputs\n",
        "Y = np.array([0, 0, 0, 1])\n",
        "# Initial weights and bias\n",
        "w = np.array([0.3, -0.2])\n",
        "b = -0.4\n",
        "# Learning rate\n",
        "n = 0.2"
      ],
      "metadata": {
        "id": "3GrxRkU6YEBd"
      },
      "execution_count": null,
      "outputs": []
    },
    {
      "cell_type": "code",
      "source": [
        "# Step 3: Training\n",
        "epochs = 10\n",
        "print(\"Initial weights:\", w)\n",
        "print(\"Initial bias:\", b)\n",
        "\n",
        "for epoch in range(epochs):\n",
        "    print(f\"\\nEpoch {epoch + 1}\")\n",
        "    error_count = 0\n",
        "    for i in range(len(X)):\n",
        "        # Compute net input\n",
        "        net_input = np.dot(X[i], w) + b\n",
        "\n",
        "        # Activation function (step function)\n",
        "        output = 1 if net_input > 0 else 0\n",
        "\n",
        "        # Compute error\n",
        "        error = Y[i] - output\n",
        "\n",
        "        # Update weights and bias if error ≠ 0\n",
        "        if error != 0:\n",
        "            w = w + n * error * X[i]\n",
        "            b = b + n * error\n",
        "            error_count += 1\n",
        "            print(f\"Updated weights: {w}, Updated bias: {b}\")\n",
        "        else:\n",
        "            print(f\"No change for input {X[i]}\")\n",
        "\n",
        "    # Stop if no error\n",
        "    if error_count == 0:\n",
        "        print(\"Training complete (no errors).\")\n",
        "        break\n",
        "\n",
        "print(\"\\nFinal weights:\", w)\n",
        "print(\"Final bias:\", b)"
      ],
      "metadata": {
        "colab": {
          "base_uri": "https://localhost:8080/"
        },
        "id": "L-BuCXjPYPlx",
        "outputId": "0e17cf2c-e493-464a-a347-3dcf54bb3a99"
      },
      "execution_count": null,
      "outputs": [
        {
          "output_type": "stream",
          "name": "stdout",
          "text": [
            "Initial weights: [ 0.3 -0.2]\n",
            "Initial bias: -0.4\n",
            "\n",
            "Epoch 1\n",
            "No change for input [0 0]\n",
            "No change for input [0 1]\n",
            "No change for input [1 0]\n",
            "Updated weights: [0.5 0. ], Updated bias: -0.2\n",
            "\n",
            "Epoch 2\n",
            "No change for input [0 0]\n",
            "No change for input [0 1]\n",
            "Updated weights: [0.3 0. ], Updated bias: -0.4\n",
            "Updated weights: [0.5 0.2], Updated bias: -0.2\n",
            "\n",
            "Epoch 3\n",
            "No change for input [0 0]\n",
            "No change for input [0 1]\n",
            "Updated weights: [0.3 0.2], Updated bias: -0.4\n",
            "No change for input [1 1]\n",
            "\n",
            "Epoch 4\n",
            "No change for input [0 0]\n",
            "No change for input [0 1]\n",
            "No change for input [1 0]\n",
            "No change for input [1 1]\n",
            "Training complete (no errors).\n",
            "\n",
            "Final weights: [0.3 0.2]\n",
            "Final bias: -0.4\n"
          ]
        }
      ]
    },
    {
      "cell_type": "code",
      "source": [
        "print(\"\\nTesting the perceptron:\")\n",
        "for i in range(len(X)):\n",
        "    net_input = np.dot(X[i], w) + b\n",
        "    output = 1 if net_input > 0 else 0\n",
        "    print(f\"Input: {X[i]} → Output: {output}\")"
      ],
      "metadata": {
        "colab": {
          "base_uri": "https://localhost:8080/"
        },
        "id": "IDnFfRSfYgdM",
        "outputId": "0e8d1993-0887-43e7-b4ff-9741543f89e5"
      },
      "execution_count": null,
      "outputs": [
        {
          "output_type": "stream",
          "name": "stdout",
          "text": [
            "\n",
            "Testing the perceptron:\n",
            "Input: [0 0] → Output: 0\n",
            "Input: [0 1] → Output: 0\n",
            "Input: [1 0] → Output: 0\n",
            "Input: [1 1] → Output: 1\n"
          ]
        }
      ]
    }
  ]
}